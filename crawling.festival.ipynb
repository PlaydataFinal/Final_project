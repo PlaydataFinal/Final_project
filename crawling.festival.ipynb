{
 "cells": [
  {
   "cell_type": "code",
   "execution_count": 1,
   "metadata": {},
   "outputs": [
    {
     "name": "stdout",
     "output_type": "stream",
     "text": [
      "Empty DataFrame\n",
      "Columns: []\n",
      "Index: []\n"
     ]
    }
   ],
   "source": [
    "from selenium import webdriver\n",
    "from selenium.webdriver.common.by import By\n",
    "from bs4 import BeautifulSoup\n",
    "import pandas as pd\n",
    "from urllib.parse import urljoin\n",
    "def crawl_festival_data(driver, detail_url):\n",
    "    # 상세 페이지로 이동\n",
    "    driver.get(detail_url)\n",
    "    # 페이지 로딩을 기다림 (3초 기다리고 조절 가능)\n",
    "    driver.implicitly_wait(3)\n",
    "    # 현재 페이지의 소스 코드\n",
    "    current_page_source = driver.page_source\n",
    "    # BeautifulSoup을 사용하여 HTML 파싱\n",
    "    soup = BeautifulSoup(current_page_source, 'html.parser')\n",
    "    # 데이터를 저장할 딕셔너리 초기화\n",
    "    festival_data = {}\n",
    "    # 제목 추출\n",
    "    title_tag = soup.find('div', class_='view_title')\n",
    "    if title_tag:\n",
    "        festival_data['Title'] = title_tag.get_text(strip=True)\n",
    "    else:\n",
    "        festival_data['Title'] = 'N/A'\n",
    "    # 이미지 추출\n",
    "    img_tag = soup.find('div', class_='culture_view_img').find('img')\n",
    "    if img_tag:\n",
    "        festival_data['Image_URL'] = urljoin('https://www.mcst.go.kr', img_tag['src'])\n",
    "    # 기타 정보 추출\n",
    "    dl_elements = soup.find_all('dl')\n",
    "    for dl in dl_elements:\n",
    "        dt = dl.find('dt').get_text(strip=True)\n",
    "        dd = dl.find('dd').get_text(strip=True)\n",
    "        # 일부 정보는 특정한 전처리가 필요할 수 있음\n",
    "        if dt == '개최기간':\n",
    "            # 개최기간 예시로 정규화\n",
    "            dd = dd.replace('.', '-')\n",
    "        # 추가 정보 추출 (예시: 개최지역, 축제성격, 관련 누리집 등)\n",
    "        if dt in ['개최지역', '축제성격', '관련 누리집', '축제장소', '요금', '주최/주관기관', '문의']:\n",
    "            festival_data[dt] = dd\n",
    "    # 상세 내용 추출\n",
    "    view_con_tag = soup.find('div', class_='view_con')\n",
    "    if view_con_tag:\n",
    "        festival_data['Description'] = view_con_tag.get_text(strip=True)\n",
    "    return festival_data\n",
    "# Chrome WebDriver 설정\n",
    "driver = webdriver.Chrome()\n",
    "# 예시 URL\n",
    "url = \"https://www.mcst.go.kr/kor/s_culture/festival/festivalList.jsp?pMenuCD=&pCurrentPage=1&pSearchType=01&pSearchWord=&pSeq=12067&pSido=&pOrder=01up&pPeriod=&fromDt=&toDt=\"\n",
    "# 상세 페이지 링크 가져오기\n",
    "driver.get(url)\n",
    "detail_links = [link.get_attribute('href') for link in driver.find_elements(By.CSS_SELECTOR, 'a.go')]\n",
    "# 각 상세 페이지에서 정보 추출\n",
    "festival_data_list = []\n",
    "for detail_link in detail_links:\n",
    "    festival_data = crawl_festival_data(driver, detail_link)\n",
    "    festival_data_list.append(festival_data)\n",
    "# WebDriver 종료\n",
    "driver.quit()\n",
    "# 결과를 데이터프레임으로 변환\n",
    "result_df = pd.DataFrame(festival_data_list)\n",
    "# 결과 출력\n",
    "print(result_df)"
   ]
  }
 ],
 "metadata": {
  "kernelspec": {
   "display_name": "Python 3",
   "language": "python",
   "name": "python3"
  },
  "language_info": {
   "codemirror_mode": {
    "name": "ipython",
    "version": 3
   },
   "file_extension": ".py",
   "mimetype": "text/x-python",
   "name": "python",
   "nbconvert_exporter": "python",
   "pygments_lexer": "ipython3",
   "version": "3.11.5"
  }
 },
 "nbformat": 4,
 "nbformat_minor": 2
}
