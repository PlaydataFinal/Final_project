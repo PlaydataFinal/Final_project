{
 "cells": [
  {
   "cell_type": "code",
   "execution_count": 1,
   "metadata": {},
   "outputs": [
    {
     "name": "stderr",
     "output_type": "stream",
     "text": [
      "C:\\Users\\USER\\AppData\\Local\\Temp\\ipykernel_4384\\1188721120.py:12: DeprecationWarning: \n",
      "Pyarrow will become a required dependency of pandas in the next major release of pandas (pandas 3.0),\n",
      "(to allow more performant data types, such as the Arrow string type, and better interoperability with other libraries)\n",
      "but was not found to be installed on your system.\n",
      "If this would cause problems for you,\n",
      "please provide us feedback at https://github.com/pandas-dev/pandas/issues/54466\n",
      "        \n",
      "  import pandas as pd\n"
     ]
    }
   ],
   "source": [
    "#필수 라이브러리 임포트\n",
    "from selenium.webdriver.common.by import By\n",
    "from urllib3.util.retry import Retry\n",
    "from requests.adapters import HTTPAdapter\n",
    "from bs4 import BeautifulSoup\n",
    "from selenium import webdriver\n",
    "from webdriver_manager.chrome import ChromeDriverManager\n",
    "import re\n",
    "from selenium.webdriver.common.keys import Keys\n",
    "import time\n",
    "import requests\n",
    "import pandas as pd"
   ]
  },
  {
   "cell_type": "code",
   "execution_count": 2,
   "metadata": {},
   "outputs": [
    {
     "name": "stdout",
     "output_type": "stream",
     "text": [
      "Requirement already satisfied: tqdm in c:\\users\\user\\desktop\\final_project\\venv\\lib\\site-packages (4.66.1)\n",
      "Requirement already satisfied: colorama in c:\\users\\user\\desktop\\final_project\\venv\\lib\\site-packages (from tqdm) (0.4.6)\n"
     ]
    }
   ],
   "source": [
    "!pip install tqdm"
   ]
  },
  {
   "cell_type": "code",
   "execution_count": 11,
   "metadata": {},
   "outputs": [],
   "source": [
    "#크롬드라이버 설정\n",
    "# chrome_options = webdriver.ChromeOptions()\n",
    "# chrome_options.add_argument('--headless')\n",
    "# chrome_options.add_argument('--no-sandbox')\n",
    "# chrome_options.add_argument(\"--single-process\")\n",
    "# chrome_options.add_argument(\"--disable-dev-shm-usage\")\n",
    "# chrome_options.add_experimental_option(\"detach\", True)\n",
    "#path='/home/sadf/chromedriver'\n",
    "driver = webdriver.Chrome()\n"
   ]
  },
  {
   "cell_type": "code",
   "execution_count": 4,
   "metadata": {},
   "outputs": [],
   "source": [
    "res = driver.get('https://m.place.naver.com/place/list?query=제주도관광지&level=top')\n",
    "driver.implicitly_wait(20)"
   ]
  },
  {
   "cell_type": "code",
   "execution_count": 5,
   "metadata": {},
   "outputs": [],
   "source": [
    "#2차 크롤링을 위한 bs4 셋팅\n",
    "session = requests.Session()\n",
    "headers = {\"User-Agent\": \"Mozilla/5.0 (Windows NT 10.0; Win64; x64) AppleWebKit/537.36 (KHTML, like Gecko) Chrome/120.0.0.0 Safari/537.36\"}\n",
    "\n",
    "retries = Retry(total=5,\n",
    "                backoff_factor=0.1,\n",
    "                status_forcelist=[ 500, 502, 503, 504 ])\n",
    "\n",
    "session.mount('http://', HTTPAdapter(max_retries=retries))"
   ]
  },
  {
   "cell_type": "code",
   "execution_count": 6,
   "metadata": {},
   "outputs": [],
   "source": [
    "from bs4 import BeautifulSoup\n",
    "html = driver.page_source\n",
    "bs = BeautifulSoup(html, 'html.parser')\n",
    "soup = bs.select_one('div.YluNG')\n",
    "naver_info = soup.select('li.VLTHu')"
   ]
  },
  {
   "cell_type": "code",
   "execution_count": 8,
   "metadata": {},
   "outputs": [],
   "source": [
    "test_res = pd.read_csv('./place_list_all.csv')"
   ]
  },
  {
   "cell_type": "code",
   "execution_count": 9,
   "metadata": {},
   "outputs": [],
   "source": [
    "test_res = test_res['Place ID'].tolist()\n",
    "\n",
    "# 리스트의 각 원소에 대해 str() 메소드를 호출\n",
    "for i in range(len(test_res)):\n",
    "    test_res[i] = str(test_res[i])"
   ]
  },
  {
   "cell_type": "code",
   "execution_count": 24,
   "metadata": {},
   "outputs": [
    {
     "data": {
      "text/plain": [
       "['12226192']"
      ]
     },
     "execution_count": 24,
     "metadata": {},
     "output_type": "execute_result"
    }
   ],
   "source": [
    "test_res[19:20]"
   ]
  },
  {
   "cell_type": "code",
   "execution_count": 34,
   "metadata": {},
   "outputs": [
    {
     "name": "stderr",
     "output_type": "stream",
     "text": [
      "100%|██████████| 1/1 [00:10<00:00, 10.41s/it]\n"
     ]
    }
   ],
   "source": [
    "import pandas as pd\n",
    "from tqdm import tqdm\n",
    "# Create empty lists to store data\n",
    "review_data = []\n",
    "keyword_data = []\n",
    "img_data = []\n",
    "score_data = []\n",
    "for place_ids in tqdm(test_res[19:20]):\n",
    "    # 브라우저 열기\n",
    "    driver = webdriver.Chrome()\n",
    "\n",
    "\n",
    "    # URL 설정\n",
    "    url = f\"https://m.place.naver.com/place/{place_ids}/review/visitor?entry=ple\"\n",
    "\n",
    "    # URL로 이동\n",
    "    driver.get(url)\n",
    "    actions = driver.find_element(By.CSS_SELECTOR, 'body')\n",
    "    actions.send_keys(Keys.END)\n",
    "    driver.implicitly_wait(5)\n",
    "    try:\n",
    "        review_score_elements = driver.find_element(By.CSS_SELECTOR, \"#app-root > div > div > div > div:nth-child(5) > div> div.place_section.no_margin.mdJ86 > div > div > div.Xj_yJ > span.m7jAR.ohonc \")\n",
    "        review_score = review_score_elements\n",
    "        review_score = review_score.text if review_score else ''\n",
    "        score_data.append({'place_ids': place_ids, 'review_score': review_score})\n",
    "    except Exception as e:\n",
    "            pass\n",
    "    # keyword_content의 수를 구하기 위해 해당 CSS 선택자에 매치되는 요소들을 가져오기\n",
    "    keyword_content_elements = driver.find_elements(By.CSS_SELECTOR, \"#app-root > div > div > div > div:nth-child(6) > div:nth-child(2) > div.place_section.no_margin.mdJ86 > div > div > div.k2tmh > ul > li > div.CsBE9 > span.nWiXa\")\n",
    "\n",
    "    # 가져온 요소들의 개수만큼 for 루프 돌리기\n",
    "    for i in range(len(keyword_content_elements)):\n",
    "        try:\n",
    "            keyword_content = keyword_content_elements[i]\n",
    "            keyword_count = driver.find_element(By.CSS_SELECTOR, f\"#app-root > div > div > div > div:nth-child(6) > div:nth-child(2) > div.place_section.no_margin.mdJ86 > div > div > div.k2tmh > ul > li:nth-child({i+1}) > div.CsBE9 > span.TwM9q\")\n",
    "            # exception handling\n",
    "            keyword_content = keyword_content.text if keyword_content else ''\n",
    "            keyword_count = keyword_count.text.split('\\n')[-1] if keyword_count else ''\n",
    "        # Append data to the keyword_data list\n",
    "            keyword_data.append({'place_ids': place_ids, 'keyword_content': keyword_content, 'keyword_count': keyword_count})\n",
    "        except Exception as e:\n",
    "            pass\n",
    "\n",
    "    \n",
    "    # 리뷰 더보기 버튼\n",
    "\n",
    "    try:\n",
    "        while True:\n",
    "            more_button = driver.find_element(By.CSS_SELECTOR, \"#app-root > div > div > div > div:nth-child(6) > div:nth-child(2) > div.place_section.k5tcc > div.NSTUp > div > a > span\")\n",
    "            if not more_button:\n",
    "                break\n",
    "            more_button[0].click()\n",
    "            time.sleep(1)\n",
    "    except Exception as e:\n",
    "        pass\n",
    "    #리뷰, 사진 , 날짜 태그 정보 가져오기\n",
    "    try:\n",
    "        review_content_elements = driver.find_elements(By.CSS_SELECTOR,'#app-root > div > div > div > div:nth-child(6) > div:nth-child(2) > div.place_section.k5tcc > div.place_section_content > ul > li > div.ZZ4OK > a > span.zPfVt')\n",
    "        review_date_elements = driver.find_elements(By.CSS_SELECTOR,'#app-root > div > div > div > div:nth-child(6) > div:nth-child(2) > div.place_section.k5tcc > div > ul > li > div.qM6I7 > div > div._7kR3e > span:nth-child(1) > time')\n",
    "        review_img_elements = driver.find_elements(By.CSS_SELECTOR,'#app-root > div > div > div > div:nth-child(6) > div:nth-child(2) > div.place_section.k5tcc > div > ul > li > div.Mmpzx > div > div > div > div > a > img')\n",
    "        \n",
    "    except Exception as e:\n",
    "        print('aaaaaa')\n",
    "        pass\n",
    "    # review for문\n",
    "    for i in range(len(review_content_elements)):\n",
    "        try:\n",
    "            review_content = review_content_elements[i]\n",
    "            review_date = review_date_elements[i]\n",
    "            review_content = review_content.text if review_content else ''\n",
    "            review_date = review_date.text if review_date else ''\n",
    "            # Append data to the review_data list\n",
    "            review_data.append({'place_ids': place_ids, 'review_content': review_content, 'review_date': review_date})\n",
    "        except Exception as e:\n",
    "            pass\n",
    "    # img for문\n",
    "    for i in range(len(review_img_elements)):\n",
    "        try:\n",
    "            review_img = review_img_elements[i]\n",
    "            review_img = review_img.get_attribute(\"src\") if review_img else ''\n",
    "            img_data.append({'place_ids': place_ids,'review_image' : review_img})\n",
    "        except Exception as e:\n",
    "            pass\n",
    "\n",
    "\n",
    "    time.sleep(0.2)\n",
    "    \n",
    "# Create data frames\n",
    "keyword_df = pd.DataFrame(keyword_data)\n",
    "review_df = pd.DataFrame(review_data)\n",
    "img_df = pd.DataFrame(img_data)\n",
    "score_df = pd.DataFrame(score_data)"
   ]
  },
  {
   "cell_type": "code",
   "execution_count": 35,
   "metadata": {},
   "outputs": [
    {
     "data": {
      "text/html": [
       "<div>\n",
       "<style scoped>\n",
       "    .dataframe tbody tr th:only-of-type {\n",
       "        vertical-align: middle;\n",
       "    }\n",
       "\n",
       "    .dataframe tbody tr th {\n",
       "        vertical-align: top;\n",
       "    }\n",
       "\n",
       "    .dataframe thead th {\n",
       "        text-align: right;\n",
       "    }\n",
       "</style>\n",
       "<table border=\"1\" class=\"dataframe\">\n",
       "  <thead>\n",
       "    <tr style=\"text-align: right;\">\n",
       "      <th></th>\n",
       "      <th>place_ids</th>\n",
       "      <th>review_content</th>\n",
       "      <th>review_date</th>\n",
       "    </tr>\n",
       "  </thead>\n",
       "  <tbody>\n",
       "    <tr>\n",
       "      <th>0</th>\n",
       "      <td>12226192</td>\n",
       "      <td>새롭게 공사했다해서 방문한 주상절리! 제주도민은 무료이고, 주차비만 지불하면 돼요!...</td>\n",
       "      <td>1.13.토</td>\n",
       "    </tr>\n",
       "    <tr>\n",
       "      <th>1</th>\n",
       "      <td>12226192</td>\n",
       "      <td>주상절리 보고싶어서 방문했는데 유도선도 잘 되어있고 테크도 잘 만들어져 있어서 가볼...</td>\n",
       "      <td>23.12.27.수</td>\n",
       "    </tr>\n",
       "    <tr>\n",
       "      <th>2</th>\n",
       "      <td>12226192</td>\n",
       "      <td>언제봐도 경관이 멋진 대포주상절리. 절리의 독특한 육각기둥형태는 학문적으로 참 의미...</td>\n",
       "      <td>1.7.일</td>\n",
       "    </tr>\n",
       "    <tr>\n",
       "      <th>3</th>\n",
       "      <td>12226192</td>\n",
       "      <td>걸어다닐 수 있는 데크가 잘 되어 있어요. 최근에 바꾼 듯한 느낌이 들고 주상절리를...</td>\n",
       "      <td>23.12.3.일</td>\n",
       "    </tr>\n",
       "    <tr>\n",
       "      <th>4</th>\n",
       "      <td>12226192</td>\n",
       "      <td>풍경이 너무 멋지고, 바다의 압도적인 풍경이 너무 근사하고 좋았어요! 입장료가 있지...</td>\n",
       "      <td>23.11.19.일</td>\n",
       "    </tr>\n",
       "    <tr>\n",
       "      <th>5</th>\n",
       "      <td>12226192</td>\n",
       "      <td>언제와도 멋진 경관의 주상절리 입니다. 주차장도 넓고 편의시설이 잘 갖춰져있어 이용...</td>\n",
       "      <td>1.13.토</td>\n",
       "    </tr>\n",
       "    <tr>\n",
       "      <th>6</th>\n",
       "      <td>12226192</td>\n",
       "      <td>사람이 별로 없었지만 타이밍이 좋았던것 같고 단체로 많이 오시는 코스인가봅니다. 사...</td>\n",
       "      <td>23.11.28.화</td>\n",
       "    </tr>\n",
       "    <tr>\n",
       "      <th>7</th>\n",
       "      <td>12226192</td>\n",
       "      <td>너무 아릅답고 좋았던 곳입니다.\\n입장료 2천원, 주차비 2천원 냈고\\n30분정도 ...</td>\n",
       "      <td>23.12.30.토</td>\n",
       "    </tr>\n",
       "    <tr>\n",
       "      <th>8</th>\n",
       "      <td>12226192</td>\n",
       "      <td>작년에는 공사중이라 못 들어갔는데\\n지금 뷰가 완전 끝내줍니다 ㅎㅎ\\n제주 오션 뷰...</td>\n",
       "      <td>23.12.15.금</td>\n",
       "    </tr>\n",
       "    <tr>\n",
       "      <th>9</th>\n",
       "      <td>12226192</td>\n",
       "      <td>제주 대포주상절리에 다녀왔습니다. 공사 후 다녀왔는데요. 전망대가 잘 꾸며져 있어 ...</td>\n",
       "      <td>23.9.30.토</td>\n",
       "    </tr>\n",
       "  </tbody>\n",
       "</table>\n",
       "</div>"
      ],
      "text/plain": [
       "  place_ids                                     review_content review_date\n",
       "0  12226192  새롭게 공사했다해서 방문한 주상절리! 제주도민은 무료이고, 주차비만 지불하면 돼요!...      1.13.토\n",
       "1  12226192  주상절리 보고싶어서 방문했는데 유도선도 잘 되어있고 테크도 잘 만들어져 있어서 가볼...  23.12.27.수\n",
       "2  12226192  언제봐도 경관이 멋진 대포주상절리. 절리의 독특한 육각기둥형태는 학문적으로 참 의미...       1.7.일\n",
       "3  12226192  걸어다닐 수 있는 데크가 잘 되어 있어요. 최근에 바꾼 듯한 느낌이 들고 주상절리를...   23.12.3.일\n",
       "4  12226192  풍경이 너무 멋지고, 바다의 압도적인 풍경이 너무 근사하고 좋았어요! 입장료가 있지...  23.11.19.일\n",
       "5  12226192  언제와도 멋진 경관의 주상절리 입니다. 주차장도 넓고 편의시설이 잘 갖춰져있어 이용...      1.13.토\n",
       "6  12226192  사람이 별로 없었지만 타이밍이 좋았던것 같고 단체로 많이 오시는 코스인가봅니다. 사...  23.11.28.화\n",
       "7  12226192  너무 아릅답고 좋았던 곳입니다.\\n입장료 2천원, 주차비 2천원 냈고\\n30분정도 ...  23.12.30.토\n",
       "8  12226192  작년에는 공사중이라 못 들어갔는데\\n지금 뷰가 완전 끝내줍니다 ㅎㅎ\\n제주 오션 뷰...  23.12.15.금\n",
       "9  12226192  제주 대포주상절리에 다녀왔습니다. 공사 후 다녀왔는데요. 전망대가 잘 꾸며져 있어 ...   23.9.30.토"
      ]
     },
     "execution_count": 35,
     "metadata": {},
     "output_type": "execute_result"
    }
   ],
   "source": [
    "review_df "
   ]
  },
  {
   "cell_type": "code",
   "execution_count": 36,
   "metadata": {},
   "outputs": [
    {
     "data": {
      "text/html": [
       "<div>\n",
       "<style scoped>\n",
       "    .dataframe tbody tr th:only-of-type {\n",
       "        vertical-align: middle;\n",
       "    }\n",
       "\n",
       "    .dataframe tbody tr th {\n",
       "        vertical-align: top;\n",
       "    }\n",
       "\n",
       "    .dataframe thead th {\n",
       "        text-align: right;\n",
       "    }\n",
       "</style>\n",
       "<table border=\"1\" class=\"dataframe\">\n",
       "  <thead>\n",
       "    <tr style=\"text-align: right;\">\n",
       "      <th></th>\n",
       "      <th>place_ids</th>\n",
       "      <th>keyword_content</th>\n",
       "      <th>keyword_count</th>\n",
       "    </tr>\n",
       "  </thead>\n",
       "  <tbody>\n",
       "    <tr>\n",
       "      <th>0</th>\n",
       "      <td>12226192</td>\n",
       "      <td>\"사진이 잘 나와요\"</td>\n",
       "      <td>165</td>\n",
       "    </tr>\n",
       "    <tr>\n",
       "      <th>1</th>\n",
       "      <td>12226192</td>\n",
       "      <td>\"주차하기 편해요\"</td>\n",
       "      <td>80</td>\n",
       "    </tr>\n",
       "    <tr>\n",
       "      <th>2</th>\n",
       "      <td>12226192</td>\n",
       "      <td>\"볼거리가 많아요\"</td>\n",
       "      <td>74</td>\n",
       "    </tr>\n",
       "    <tr>\n",
       "      <th>3</th>\n",
       "      <td>12226192</td>\n",
       "      <td>\"산책로가 잘 되어있어요\"</td>\n",
       "      <td>64</td>\n",
       "    </tr>\n",
       "    <tr>\n",
       "      <th>4</th>\n",
       "      <td>12226192</td>\n",
       "      <td>\"붐비지 않아요\"</td>\n",
       "      <td>43</td>\n",
       "    </tr>\n",
       "  </tbody>\n",
       "</table>\n",
       "</div>"
      ],
      "text/plain": [
       "  place_ids keyword_content keyword_count\n",
       "0  12226192     \"사진이 잘 나와요\"           165\n",
       "1  12226192      \"주차하기 편해요\"            80\n",
       "2  12226192      \"볼거리가 많아요\"            74\n",
       "3  12226192  \"산책로가 잘 되어있어요\"            64\n",
       "4  12226192       \"붐비지 않아요\"            43"
      ]
     },
     "execution_count": 36,
     "metadata": {},
     "output_type": "execute_result"
    }
   ],
   "source": [
    "keyword_df"
   ]
  },
  {
   "cell_type": "code",
   "execution_count": null,
   "metadata": {},
   "outputs": [],
   "source": []
  }
 ],
 "metadata": {
  "kernelspec": {
   "display_name": "venv",
   "language": "python",
   "name": "python3"
  },
  "language_info": {
   "codemirror_mode": {
    "name": "ipython",
    "version": 3
   },
   "file_extension": ".py",
   "mimetype": "text/x-python",
   "name": "python",
   "nbconvert_exporter": "python",
   "pygments_lexer": "ipython3",
   "version": "3.9.13"
  }
 },
 "nbformat": 4,
 "nbformat_minor": 2
}
