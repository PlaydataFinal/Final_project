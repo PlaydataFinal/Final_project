{
 "cells": [
  {
   "cell_type": "code",
   "execution_count": 4,
   "id": "3e00feba-17ae-4b2b-a63b-694ae3493a77",
   "metadata": {},
   "outputs": [],
   "source": [
    "#필수 라이브러리 임포트\n",
    "from selenium.webdriver.common.by import By\n",
    "from urllib3.util.retry import Retry\n",
    "from requests.adapters import HTTPAdapter\n",
    "from bs4 import BeautifulSoup\n",
    "from selenium import webdriver\n",
    "from webdriver_manager.chrome import ChromeDriverManager\n",
    "import re\n",
    "from selenium.webdriver.common.keys import Keys\n",
    "import time\n",
    "import requests\n",
    "import pandas as pd\n",
    "from tqdm import tqdm"
   ]
  },
  {
   "cell_type": "code",
   "execution_count": 5,
   "id": "b8fb99d8-fc95-40d1-9773-c64eb54657ae",
   "metadata": {},
   "outputs": [],
   "source": [
    "#크롬드라이버 설정\n",
    "chrome_options = webdriver.ChromeOptions()\n",
    "# chrome_options.add_argument('--headless')\n",
    "# chrome_options.add_argument('--no-sandbox')\n",
    "chrome_options.add_argument(\"--single-process\")\n",
    "chrome_options.add_argument(\"--disable-dev-shm-usage\")\n",
    "chrome_options.add_experimental_option(\"detach\", True)\n",
    "#path='/home/sadf/chromedriver'\n",
    "driver = webdriver.Chrome(options=chrome_options)\n"
   ]
  },
  {
   "cell_type": "code",
   "execution_count": 6,
   "id": "7991629a-a6a8-416a-afd4-6a6eeefd4b7c",
   "metadata": {},
   "outputs": [],
   "source": [
    "#크롬 웹드라이버 불러오기\n",
    "\n",
    "res = driver.get('https://m.place.naver.com/place/list?query=제주도관광지&level=top')\n",
    "driver.implicitly_wait(20)"
   ]
  },
  {
   "cell_type": "code",
   "execution_count": 7,
   "id": "e2b09f87-fa22-47d3-8bde-984736409f26",
   "metadata": {},
   "outputs": [],
   "source": [
    "#2차 크롤링을 위한 bs4 셋팅\n",
    "session = requests.Session()\n",
    "headers = {\"User-Agent\": \"Mozilla/5.0 (Windows NT 10.0; Win64; x64) AppleWebKit/537.36 (KHTML, like Gecko) Chrome/120.0.0.0 Safari/537.36\"}\n",
    "\n",
    "retries = Retry(total=5,\n",
    "                backoff_factor=0.1,\n",
    "                status_forcelist=[ 500, 502, 503, 504 ])\n",
    "\n",
    "session.mount('http://', HTTPAdapter(max_retries=retries))"
   ]
  },
  {
   "cell_type": "code",
   "execution_count": 8,
   "id": "8c032c5b-c70b-4147-8092-d6b137ddeb74",
   "metadata": {},
   "outputs": [],
   "source": [
    "#body부분을 잡기 위해 쓸데없이 버튼을 클릭해줌\n",
    "driver.find_element(By.XPATH, '//*[@id=\"_list_scroll_container\"]/div/div/div[1]/div/div/div/span[2]/a').click()\n",
    "driver.find_element(By.XPATH, '//*[@id=\"_list_scroll_container\"]/div/div/div[1]/div/div/div/span[1]/a').click()\n",
    "\n",
    "#검색결과가 모두 보이지 않기 때문에 page down을 눌러 끝까지 펼쳐준다.\n",
    "for scroll in range(0,300):\n",
    "    driver.find_element(By.TAG_NAME, 'body').send_keys(Keys.PAGE_DOWN)\n",
    "    time.sleep(0.2)\n"
   ]
  },
  {
   "cell_type": "code",
   "execution_count": null,
   "id": "b5becfb6-4e8c-4eb1-acfb-76d55830628d",
   "metadata": {},
   "outputs": [],
   "source": [
    "from bs4 import BeautifulSoup\n",
    "html = driver.page_source\n",
    "bs = BeautifulSoup(html, 'html.parser')\n",
    "soup = bs.select_one('div.YluNG')\n",
    "naver_info = soup.select('li.VLTHu')"
   ]
  },
  {
   "cell_type": "code",
   "execution_count": 9,
   "id": "58b9a61e-8936-4a10-a5f0-40b794383afc",
   "metadata": {},
   "outputs": [],
   "source": [
    "from bs4 import BeautifulSoup\n",
    "html = driver.page_source\n",
    "bs = BeautifulSoup(html, 'html.parser')"
   ]
  },
  {
   "cell_type": "code",
   "execution_count": 14,
   "id": "ab908af7-636f-43ac-b222-5b3d747fcf23",
   "metadata": {},
   "outputs": [],
   "source": [
    "# test_res = pd.read_csv('../place_list_all.csv')\n",
    "test_res = pd.read_csv('ssh://hadoop@fclient:/home/hadoop/workspace/nohup/place_list_all.csv')"
   ]
  },
  {
   "cell_type": "code",
   "execution_count": 15,
   "id": "daf1f186-5af4-4dc3-b88b-2f461d8c9c33",
   "metadata": {},
   "outputs": [],
   "source": [
    "test_res = test_res['Place ID'].tolist()\n",
    "\n",
    "# 리스트의 각 원소에 대해 str() 메소드를 호출\n",
    "for i in range(len(test_res)):\n",
    "    test_res[i] = str(test_res[i])"
   ]
  },
  {
   "cell_type": "code",
   "execution_count": 16,
   "id": "7d92a410-cf8b-4d5f-954d-78d165e2b564",
   "metadata": {
    "scrolled": true
   },
   "outputs": [
    {
     "data": {
      "text/plain": [
       "['1875149782']"
      ]
     },
     "execution_count": 16,
     "metadata": {},
     "output_type": "execute_result"
    }
   ],
   "source": [
    "test_res[5:6]"
   ]
  },
  {
   "cell_type": "code",
   "execution_count": 34,
   "id": "377dcb94",
   "metadata": {},
   "outputs": [],
   "source": [
    "import numpy as np"
   ]
  },
  {
   "cell_type": "code",
   "execution_count": 41,
   "id": "20bc7ea5",
   "metadata": {},
   "outputs": [
    {
     "name": "stdout",
     "output_type": "stream",
     "text": [
      "0\n",
      "3\n",
      "1\n",
      "1\n",
      "5\n",
      "2\n",
      "1\n",
      "4\n",
      "0\n",
      "0\n"
     ]
    }
   ],
   "source": [
    "for i in range(10):\n",
    "    x = np.random.randint(6)\n",
    "    print(x)\n",
    "    "
   ]
  },
  {
   "cell_type": "code",
   "execution_count": 47,
   "id": "ac244e86",
   "metadata": {},
   "outputs": [
    {
     "data": {
      "text/plain": [
       "float"
      ]
     },
     "execution_count": 47,
     "metadata": {},
     "output_type": "execute_result"
    }
   ],
   "source": [
    "type(np.NAN)"
   ]
  },
  {
   "cell_type": "code",
   "execution_count": 52,
   "id": "b7549779-d5df-450c-9093-fd8f20145c52",
   "metadata": {},
   "outputs": [
    {
     "name": "stderr",
     "output_type": "stream",
     "text": [
      "  0%|          | 0/1 [00:00<?, ?it/s]"
     ]
    },
    {
     "name": "stdout",
     "output_type": "stream",
     "text": [
      "\"뷰가 좋아요\" 82\n",
      "\"사진이 잘 나와요\" 61\n",
      "\"경관이 독특해요\" 49\n",
      "\"주차하기 편해요\" 33\n",
      "\"볼거리가 많아요\" 18\n",
      "더보기 끝\n",
      "리뷰 for문 끝\n",
      "리뷰 for문 끝\n",
      "리뷰 for문 끝\n",
      "리뷰 for문 끝\n",
      "리뷰 for문 끝\n",
      "리뷰 for문 끝\n",
      "리뷰 for문 끝\n",
      "리뷰 for문 끝\n",
      "리뷰 for문 끝\n",
      "리뷰 for문 끝\n",
      "리뷰 for문 끝\n",
      "리뷰 for문 끝\n",
      "리뷰 for문 끝\n",
      "리뷰 for문 끝\n",
      "리뷰 for문 끝\n",
      "리뷰 for문 끝\n",
      "리뷰 for문 끝\n",
      "리뷰 for문 끝\n",
      "리뷰 for문 끝\n",
      "리뷰 for문 끝\n",
      "리뷰 for문 끝\n",
      "리뷰 for문 끝\n",
      "리뷰 for문 끝\n",
      "리뷰 for문 끝\n",
      "리뷰 for문 끝\n",
      "리뷰 for문 끝\n",
      "리뷰 for문 끝\n",
      "리뷰 for문 끝\n",
      "리뷰 for문 끝\n",
      "리뷰 for문 끝\n",
      "리뷰 for문 끝\n",
      "리뷰 for문 끝\n",
      "리뷰 for문 끝\n",
      "리뷰 for문 끝\n",
      "리뷰 for문 끝\n",
      "리뷰 for문 끝\n",
      "리뷰 for문 끝\n",
      "리뷰 for문 끝\n",
      "리뷰 for문 끝\n",
      "리뷰 for문 끝\n",
      "리뷰 for문 끝\n",
      "리뷰 for문 끝\n",
      "리뷰 for문 끝\n",
      "리뷰 for문 끝\n",
      "리뷰 for문 끝\n",
      "리뷰 for문 끝\n",
      "리뷰 for문 끝\n",
      "리뷰 for문 끝\n",
      "리뷰 for문 끝\n",
      "리뷰 for문 끝\n",
      "리뷰 for문 끝\n",
      "리뷰 for문 끝\n",
      "리뷰 for문 끝\n",
      "리뷰 for문 끝\n",
      "리뷰 for문 끝\n",
      "리뷰 for문 끝\n",
      "리뷰 for문 끝\n",
      "리뷰 for문 끝\n",
      "리뷰 for문 끝\n",
      "리뷰 for문 끝\n",
      "리뷰 for문 끝\n",
      "리뷰 for문 끝\n",
      "리뷰 for문 끝\n",
      "리뷰 for문 끝\n",
      "리뷰 for문 끝\n",
      "리뷰 for문 끝\n",
      "리뷰 for문 끝\n",
      "리뷰 for문 끝\n",
      "리뷰 for문 끝\n",
      "리뷰 for문 끝\n",
      "리뷰 for문 끝\n",
      "리뷰 for문 끝\n",
      "리뷰 for문 끝\n",
      "리뷰 for문 끝\n",
      "리뷰 for문 끝\n",
      "리뷰 for문 끝\n"
     ]
    },
    {
     "name": "stderr",
     "output_type": "stream",
     "text": [
      "100%|██████████| 1/1 [00:42<00:00, 42.27s/it]\n"
     ]
    }
   ],
   "source": [
    "import pandas as pd\n",
    "from tqdm import tqdm\n",
    "# Create empty lists to store data\n",
    "review_data = []\n",
    "keyword_data = []\n",
    "img_data = []\n",
    "for place_ids in tqdm(test_res[4:5]):\n",
    "    # 브라우저 열기\n",
    "    driver = webdriver.Chrome(options=chrome_options)\n",
    "\n",
    "   \n",
    "    # URL 설정\n",
    "    url = f\"https://m.place.naver.com/place/{place_ids}/review/visitor?entry=ple\"\n",
    "\n",
    "    # URL로 이동\n",
    "    driver.get(url)\n",
    "    actions = driver.find_element(By.CSS_SELECTOR, 'body')\n",
    "    actions.send_keys(Keys.END)\n",
    "    driver.implicitly_wait(10)\n",
    "\n",
    "\n",
    "\n",
    "    # keyword_content의 수를 구하기 위해 해당 CSS 선택자에 매치되는 요소들을 가져오기\n",
    "    keyword_content_elements = driver.find_elements(By.CSS_SELECTOR, \"#app-root > div > div > div > div:nth-child(6) > div:nth-child(2) > div.place_section.no_margin.mdJ86 > div > div > div.k2tmh > ul > li > div.CsBE9 > span.nWiXa\")\n",
    "    # 가져온 요소들의 개수만큼 for 루프 돌리기\n",
    "    for i in range(len(keyword_content_elements)):\n",
    "        try:\n",
    "            keyword_content = keyword_content_elements[i]\n",
    "            keyword_count = driver.find_element(By.CSS_SELECTOR, f\"#app-root > div > div > div > div:nth-child(6) > div:nth-child(2) > div.place_section.no_margin.mdJ86 > div > div > div.k2tmh > ul > li:nth-child({i+1}) > div.CsBE9 > span.TwM9q\")\n",
    "            # exception handling\n",
    "            keyword_content = keyword_content.text if keyword_content else ''\n",
    "            keyword_count = keyword_count.text.split('\\n')[-1] if keyword_count else ''\n",
    "            print(keyword_content, keyword_count)\n",
    "        # Append data to the keyword_data list\n",
    "            keyword_data.append({'place_ids': place_ids, 'keyword_content': keyword_content, 'keyword_count': keyword_count})\n",
    "        except Exception as e:\n",
    "            pass\n",
    "\n",
    "    \n",
    "    # 리뷰 더보기 버튼\n",
    "    try:\n",
    "        while True:\n",
    "            driver.find_element(By.CSS_SELECTOR, \"#app-root > div > div > div > div:nth-child(6) > div:nth-child(2) > div.place_section.k5tcc > div.NSTUp > div > a > span\").click()\n",
    "            time.sleep(1)\n",
    "    except Exception as e:\n",
    "        print('더보기 끝')\n",
    "    #리뷰, 사진 , 날짜 태그 정보 가져오기\n",
    "    try:\n",
    "        review_content_elements = driver.find_elements(By.CSS_SELECTOR,'#app-root > div > div > div > div:nth-child(6) > div:nth-child(2) > div.place_section.k5tcc > div.place_section_content > ul > li > div.ZZ4OK > a > span.zPfVt')\n",
    "        review_date_elements = driver.find_elements(By.CSS_SELECTOR,'#app-root > div > div > div > div:nth-child(6) > div:nth-child(2) > div.place_section.k5tcc > div > ul > li > div.qM6I7 > div > div._7kR3e > span:nth-child(1) > time')\n",
    "        review_img_elements = driver.find_elements(By.CSS_SELECTOR,'#app-root > div > div > div > div:nth-child(6) > div:nth-child(2) > div.place_section.k5tcc > div > ul > li > div.Mmpzx > div > div > div > div > a > img')\n",
    "        review_score_elements = driver.find_element(By.CSS_SELECTOR, \"#app-root > div > div > div > div:nth-child(5) > div> div.place_section.no_margin.mdJ86 > div > div > div.Xj_yJ > span.m7jAR.ohonc \")\n",
    "    except Exception as e:\n",
    "        review_content_elements = driver.find_elements(By.CSS_SELECTOR,'#app-root > div > div > div > div:nth-child(6) > div:nth-child(2) > div.place_section.k5tcc > div.place_section_content > ul > li > div.ZZ4OK > a > span.zPfVt')\n",
    "        review_date_elements = driver.find_elements(By.CSS_SELECTOR,'#app-root > div > div > div > div:nth-child(6) > div:nth-child(2) > div.place_section.k5tcc > div > ul > li > div.qM6I7 > div > div._7kR3e > span:nth-child(1) > time')\n",
    "        review_img_elements = driver.find_elements(By.CSS_SELECTOR,'#app-root > div > div > div > div:nth-child(6) > div:nth-child(2) > div.place_section.k5tcc > div > ul > li > div.Mmpzx > div > div > div > div > a > img')\n",
    "    # review for문\n",
    "    for i in range(len(review_content_elements)):\n",
    "        try:\n",
    "            review_content = review_content_elements[i] if review_content_elements[i] else ''\n",
    "            review_date = review_date_elements[i] if review_date_elements[i] else ''\n",
    "            review_score = review_score_elements[i] if review_score_elements[i] else ''\n",
    "\n",
    "            \n",
    "            review_content = review_content.text if review_content else ''\n",
    "            review_date = review_date.text if review_date else ''\n",
    "            review_score = review_score.text if review_score else ''\n",
    "            # Append data to the review_data list\n",
    "            review_data.append({'place_ids': place_ids, 'review_content': review_content, 'review_date': review_date, 'review_score': review_score})\n",
    "        except Exception as e:\n",
    "            review_content = review_content_elements[i] if review_content_elements[i] else ''\n",
    "            review_date = review_date_elements[i] if review_date_elements[i] else ''\n",
    "            \n",
    "            review_content = review_content.text if review_content else ''\n",
    "            review_date = review_date.text if review_date else ''\n",
    "            review_score = np.NAN\n",
    "            # Append data to the review_data list\n",
    "            review_data.append({'place_ids': place_ids, 'review_content': review_content, 'review_date': review_date, 'review_score': review_score})\n",
    "            \n",
    "            print('리뷰 for문 끝')\n",
    "    # img for문\n",
    "    for i in range(len(review_img_elements)):\n",
    "        try:\n",
    "            review_img = review_img_elements[i]\n",
    "            review_img = review_img.get_attribute(\"src\") if review_img else ''\n",
    "            img_data.append({'place_ids': place_ids,'review_image' : review_img})\n",
    "        except Exception as e:\n",
    "            print(e)\n",
    "            print('이미지 끝')\n",
    "\n",
    "\n",
    "    \n",
    "    # driver.quit()\n",
    "# Create data frames\n",
    "keyword_df = pd.DataFrame(keyword_data)\n",
    "review_df = pd.DataFrame(review_data)\n",
    "img_df = pd.DataFrame(img_data)"
   ]
  },
  {
   "cell_type": "code",
   "execution_count": 53,
   "id": "8fec866b-9f5c-4416-bde9-4a92da6faa8e",
   "metadata": {},
   "outputs": [
    {
     "data": {
      "text/html": [
       "<div>\n",
       "<style scoped>\n",
       "    .dataframe tbody tr th:only-of-type {\n",
       "        vertical-align: middle;\n",
       "    }\n",
       "\n",
       "    .dataframe tbody tr th {\n",
       "        vertical-align: top;\n",
       "    }\n",
       "\n",
       "    .dataframe thead th {\n",
       "        text-align: right;\n",
       "    }\n",
       "</style>\n",
       "<table border=\"1\" class=\"dataframe\">\n",
       "  <thead>\n",
       "    <tr style=\"text-align: right;\">\n",
       "      <th></th>\n",
       "      <th>place_ids</th>\n",
       "      <th>review_content</th>\n",
       "      <th>review_date</th>\n",
       "      <th>review_score</th>\n",
       "    </tr>\n",
       "  </thead>\n",
       "  <tbody>\n",
       "    <tr>\n",
       "      <th>0</th>\n",
       "      <td>11707633</td>\n",
       "      <td>쇠소깍의미를 찾아 봤어요 (쇠:효돈마을 소: 연못 깍:끝) 효돈마을 연못 끝자락에 ...</td>\n",
       "      <td>1.3.수</td>\n",
       "      <td>NaN</td>\n",
       "    </tr>\n",
       "    <tr>\n",
       "      <th>1</th>\n",
       "      <td>11707633</td>\n",
       "      <td>제주도를 일년에 5번이상은 오지만, 쇠소깍은10년만에 방문이네요~ 입구쪽부터 상점들...</td>\n",
       "      <td>23.11.15.수</td>\n",
       "      <td>NaN</td>\n",
       "    </tr>\n",
       "    <tr>\n",
       "      <th>2</th>\n",
       "      <td>11707633</td>\n",
       "      <td>효돈천과 바다가 만나는 곳의 검은 모래 해변. 맑고 푸른 청록의 물빛에 소나무가 많...</td>\n",
       "      <td>23.12.9.토</td>\n",
       "      <td>NaN</td>\n",
       "    </tr>\n",
       "    <tr>\n",
       "      <th>3</th>\n",
       "      <td>11707633</td>\n",
       "      <td>제주도 남쪽 남원 바다로 이어지는 하천 쇠소깍. 전통배 테우와 카약을 탈 수 있는 ...</td>\n",
       "      <td>23.12.5.화</td>\n",
       "      <td>NaN</td>\n",
       "    </tr>\n",
       "    <tr>\n",
       "      <th>4</th>\n",
       "      <td>11707633</td>\n",
       "      <td>쇠소깍 풍경만 보고 무작정 테우 타러 갔는데, 운 좋게 추성훈 선장님과 함께 즐거운...</td>\n",
       "      <td>23.11.17.금</td>\n",
       "      <td>NaN</td>\n",
       "    </tr>\n",
       "    <tr>\n",
       "      <th>...</th>\n",
       "      <td>...</td>\n",
       "      <td>...</td>\n",
       "      <td>...</td>\n",
       "      <td>...</td>\n",
       "    </tr>\n",
       "    <tr>\n",
       "      <th>71</th>\n",
       "      <td>11707633</td>\n",
       "      <td>다시 가고 싶다</td>\n",
       "      <td>23.6.18.일</td>\n",
       "      <td>NaN</td>\n",
       "    </tr>\n",
       "    <tr>\n",
       "      <th>72</th>\n",
       "      <td>11707633</td>\n",
       "      <td>쇠소깍가면 꼭 배타길 추천이요</td>\n",
       "      <td>23.7.23.일</td>\n",
       "      <td>NaN</td>\n",
       "    </tr>\n",
       "    <tr>\n",
       "      <th>73</th>\n",
       "      <td>11707633</td>\n",
       "      <td>좋아요</td>\n",
       "      <td>23.8.3.목</td>\n",
       "      <td>NaN</td>\n",
       "    </tr>\n",
       "    <tr>\n",
       "      <th>74</th>\n",
       "      <td>11707633</td>\n",
       "      <td>제주</td>\n",
       "      <td>23.8.26.토</td>\n",
       "      <td>NaN</td>\n",
       "    </tr>\n",
       "    <tr>\n",
       "      <th>75</th>\n",
       "      <td>11707633</td>\n",
       "      <td>카약 못타서 아쉽쓰 ㅠ 일찍가세요</td>\n",
       "      <td>23.5.24.수</td>\n",
       "      <td>NaN</td>\n",
       "    </tr>\n",
       "  </tbody>\n",
       "</table>\n",
       "<p>76 rows × 4 columns</p>\n",
       "</div>"
      ],
      "text/plain": [
       "   place_ids                                     review_content review_date  \\\n",
       "0   11707633  쇠소깍의미를 찾아 봤어요 (쇠:효돈마을 소: 연못 깍:끝) 효돈마을 연못 끝자락에 ...       1.3.수   \n",
       "1   11707633  제주도를 일년에 5번이상은 오지만, 쇠소깍은10년만에 방문이네요~ 입구쪽부터 상점들...  23.11.15.수   \n",
       "2   11707633  효돈천과 바다가 만나는 곳의 검은 모래 해변. 맑고 푸른 청록의 물빛에 소나무가 많...   23.12.9.토   \n",
       "3   11707633  제주도 남쪽 남원 바다로 이어지는 하천 쇠소깍. 전통배 테우와 카약을 탈 수 있는 ...   23.12.5.화   \n",
       "4   11707633  쇠소깍 풍경만 보고 무작정 테우 타러 갔는데, 운 좋게 추성훈 선장님과 함께 즐거운...  23.11.17.금   \n",
       "..       ...                                                ...         ...   \n",
       "71  11707633                                           다시 가고 싶다   23.6.18.일   \n",
       "72  11707633                                   쇠소깍가면 꼭 배타길 추천이요   23.7.23.일   \n",
       "73  11707633                                                좋아요    23.8.3.목   \n",
       "74  11707633                                                 제주   23.8.26.토   \n",
       "75  11707633                                 카약 못타서 아쉽쓰 ㅠ 일찍가세요   23.5.24.수   \n",
       "\n",
       "    review_score  \n",
       "0            NaN  \n",
       "1            NaN  \n",
       "2            NaN  \n",
       "3            NaN  \n",
       "4            NaN  \n",
       "..           ...  \n",
       "71           NaN  \n",
       "72           NaN  \n",
       "73           NaN  \n",
       "74           NaN  \n",
       "75           NaN  \n",
       "\n",
       "[76 rows x 4 columns]"
      ]
     },
     "execution_count": 53,
     "metadata": {},
     "output_type": "execute_result"
    }
   ],
   "source": [
    "review_df"
   ]
  },
  {
   "cell_type": "code",
   "execution_count": null,
   "id": "06b470f9-f8a1-428f-89d8-6449d59805f2",
   "metadata": {},
   "outputs": [],
   "source": []
  },
  {
   "cell_type": "code",
   "execution_count": null,
   "id": "0f131474-f466-44af-8c88-a78577fa809e",
   "metadata": {},
   "outputs": [],
   "source": []
  },
  {
   "cell_type": "code",
   "execution_count": null,
   "id": "738df465-d816-4853-8a67-a980ff915f7e",
   "metadata": {},
   "outputs": [],
   "source": []
  }
 ],
 "metadata": {
  "kernelspec": {
   "display_name": "Python 3 (ipykernel)",
   "language": "python",
   "name": "python3"
  },
  "language_info": {
   "codemirror_mode": {
    "name": "ipython",
    "version": 3
   },
   "file_extension": ".py",
   "mimetype": "text/x-python",
   "name": "python",
   "nbconvert_exporter": "python",
   "pygments_lexer": "ipython3",
   "version": "3.11.7"
  }
 },
 "nbformat": 4,
 "nbformat_minor": 5
}
