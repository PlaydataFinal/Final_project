{
 "cells": [
  {
   "cell_type": "markdown",
   "metadata": {},
   "source": [
    "- BERT 계열과 GPT 계열의 공통 motivation, 차이점\n",
    "- LLM 의 대표적인 2가지: BERT, GPT\n",
    "- In-context inference"
   ]
  },
  {
   "cell_type": "markdown",
   "metadata": {},
   "source": [
    "1. GPT 모델 전이학습 (추가학습)\n",
    "\n",
    "비지도 학습과 생성적 사전학습(generative pre-training)기법, 변환기(transformer)를 적용\n",
    "\n",
    "#pip install tensorflow\n",
    "#git clone https://github.com/openai/gpt-2.git\n",
    "#cd gpt-2\n",
    "python download_model.py\n"
   ]
  },
  {
   "cell_type": "code",
   "execution_count": null,
   "metadata": {},
   "outputs": [],
   "source": [
    "import tensorflow as tf\n",
    "import os\n",
    "import sys\n",
    "import numpy as np\n",
    "\n",
    "sys.path.append('gpt-2/src')\n",
    "\n",
    "import model, sample, encoder\n",
    "\n",
    "model_name = '117M'  # 모델 크기 선택 (117M 또는 345M)\n",
    "seed = None\n",
    "length = 100  # 생성할 텍스트 길이\n",
    "\n",
    "models_dir = 'gpt-2/models'\n",
    "model_dir = os.path.join(models_dir, model_name)\n",
    "\n",
    "if seed is None:\n",
    "    seed = np.random.randint(0, 1000000)\n",
    "\n",
    "enc = encoder.get_encoder(model_name, models_dir)\n",
    "hparams = model.default_hparams()\n",
    "with open(os.path.join(model_dir, 'hparams.json')) as f:\n",
    "    hparams.override_from_dict(json.load(f))\n",
    "\n",
    "with tf.Session(graph=tf.Graph()) as sess:\n",
    "    context = tf.placeholder(tf.int32, [1, None])\n",
    "    np.random.seed(seed)\n",
    "    tf.set_random_seed(seed)\n",
    "    output = sample.sample_sequence(\n",
    "        hparams=hparams, length=length,\n",
    "        context=context,\n",
    "        batch_size=1,\n",
    "        temperature=1.0\n",
    "    )\n",
    "\n",
    "    saver = tf.train.Saver()\n",
    "    ckpt = tf.train.latest_checkpoint(os.path.join(model_dir, 'checkpoint'))\n",
    "    saver.restore(sess, ckpt)\n",
    "\n",
    "    raw_text = \"Your prompt goes here.\"  # 여기에 사용하고자 하는 프롬프트 입력\n",
    "    context_tokens = enc.encode(raw_text)\n",
    "    out = sess.run(output, feed_dict={context: [context_tokens]})\n",
    "\n",
    "    text = enc.decode(out[0])\n",
    "    print(text)"
   ]
  },
  {
   "cell_type": "code",
   "execution_count": null,
   "metadata": {},
   "outputs": [],
   "source": [
    "#gpt"
   ]
  },
  {
   "cell_type": "code",
   "execution_count": null,
   "metadata": {},
   "outputs": [],
   "source": []
  },
  {
   "cell_type": "markdown",
   "metadata": {},
   "source": [
    "2. NLP 딥러닝 모델 훈련"
   ]
  }
 ],
 "metadata": {
  "kernelspec": {
   "display_name": "Python 3",
   "language": "python",
   "name": "python3"
  },
  "language_info": {
   "codemirror_mode": {
    "name": "ipython",
    "version": 3
   },
   "file_extension": ".py",
   "mimetype": "text/x-python",
   "name": "python",
   "nbconvert_exporter": "python",
   "pygments_lexer": "ipython3",
   "version": "3.11.5"
  }
 },
 "nbformat": 4,
 "nbformat_minor": 2
}
